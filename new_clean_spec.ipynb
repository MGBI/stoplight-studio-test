{
 "cells": [
  {
   "cell_type": "code",
   "execution_count": 14,
   "metadata": {
    "pycharm": {
     "name": "#%%\n"
    }
   },
   "outputs": [],
   "source": [
    "import yaml\n",
    "import json\n",
    "from collections import defaultdict\n",
    "\n",
    "# filePath = sys.argv[1]\n",
    "\n",
    "# openapi.json is our mock instead of filePath\n",
    "with open(\"reference/openapi.json\") as openapiJson:\n",
    "    jsonFile = json.load(openapiJson)\n",
    "\n",
    "wantedPaths = defaultdict(dict)\n",
    "for path, methods in jsonFile[\"paths\"].items():\n",
    "    for method, endpoint in methods.items():\n",
    "        if \"internal\" not in endpoint[\"tags\"] and \"admin\" not in endpoint[\"tags\"]:\n",
    "             wantedPaths[path][method] = endpoint\n",
    "\n",
    "openapiFile = jsonFile\n",
    "openapiFile[\"paths\"] = wantedPaths"
   ]
  },
  {
   "cell_type": "code",
   "execution_count": 15,
   "metadata": {
    "pycharm": {
     "name": "#%%\n"
    }
   },
   "outputs": [],
   "source": [
    "# save cleaned/refactored version of openapi.json as openapi.v2.json\n",
    "\n",
    "with open(\"reference/openapi.v2.json\", \"w\") as jf:\n",
    "    json.dump(openapiFile, jf)\n",
    "with open(\"reference/openapi.v2.json\") as jsonF:\n",
    "    v2Json = json.load(jsonF)\n"
   ]
  },
  {
   "cell_type": "code",
   "execution_count": 16,
   "metadata": {
    "pycharm": {
     "name": "#%%\n"
    }
   },
   "outputs": [],
   "source": [
    "# reformat openapi-bundle-cleaned.v1.yaml to json and create json variable\n",
    "\n",
    "with open(\"openapi-bundle-cleaned.v1.yaml\") as yamlFile, \\\n",
    "    open(\"openapi-bundle-cleaned.v1.json\", \"w\") as jsonFIle:\n",
    "    yamlObject = yaml.safe_load(yamlFile)\n",
    "    json.dump(yamlObject, jsonFIle)\n",
    "with open(\"openapi-bundle-cleaned.v1.json\") as v1:\n",
    "    v1Json = json.load(v1)\n"
   ]
  },
  {
   "cell_type": "code",
   "execution_count": 22,
   "metadata": {
    "pycharm": {
     "name": "#%%\n"
    }
   },
   "outputs": [],
   "source": [
    "# override version in field info\n",
    "\n",
    "infoSection = defaultdict(dict)\n",
    "for info, fields in v2Json[\"info\"].items():\n",
    "    infoSection[info] = fields\n",
    "v1Json[\"info\"][\"version\"] = infoSection[\"version\"]\n",
    "\n",
    "with open(\"openapi-bundle-cleaned.v1.json\", \"w\") as openapiv1:\n",
    "    json.dump(v1Json, openapiv1)"
   ]
  },
  {
   "cell_type": "code",
   "execution_count": 23,
   "metadata": {
    "pycharm": {
     "name": "#%%\n"
    }
   },
   "outputs": [],
   "source": [
    "v2Json[\"paths\"].update(v1Json[\"paths\"])\n",
    "\n",
    "with open(\"openapi-bundle-cleaned.v1.json\", \"w\") as openapiv1:\n",
    "    json.dump(v2Json, openapiv1)\n"
   ]
  },
  {
   "cell_type": "code",
   "execution_count": null,
   "metadata": {
    "pycharm": {
     "name": "#%%\n"
    }
   },
   "outputs": [],
   "source": [
    "# at the end save openapi.v2.json as yaml\n",
    "\n",
    "with open(\"reference/openapi.v2.json\") as jf, \\\n",
    "  open(\"reference/openapi.v2.yaml\", \"w\") as yf:\n",
    "    jsonObj = json.load(jf)\n",
    "    yaml.dump(jsonObj, yf, sort_keys=False)"
   ]
  },
  {
   "cell_type": "code",
   "execution_count": null,
   "metadata": {},
   "outputs": [],
   "source": []
  }
 ],
 "metadata": {
  "kernelspec": {
   "display_name": "Python 3 (ipykernel)",
   "language": "python",
   "name": "python3"
  },
  "language_info": {
   "codemirror_mode": {
    "name": "ipython",
    "version": 3
   },
   "file_extension": ".py",
   "mimetype": "text/x-python",
   "name": "python",
   "nbconvert_exporter": "python",
   "pygments_lexer": "ipython3",
   "version": "3.9.5"
  }
 },
 "nbformat": 4,
 "nbformat_minor": 1
}