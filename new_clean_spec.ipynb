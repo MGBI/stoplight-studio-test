{
 "cells": [
  {
   "cell_type": "code",
   "execution_count": 30,
   "metadata": {
    "pycharm": {
     "is_executing": true,
     "name": "#%%\n"
    }
   },
   "outputs": [],
   "source": [
    "import yaml\n",
    "import json\n",
    "from collections import defaultdict\n",
    "\n",
    "# filePath = sys.argv[1]\n",
    "\n",
    "# openapi.json is our mock instead of filePath\n",
    "with open(\"reference/openapi.json\") as openapiJson:\n",
    "    jsonFile = json.load(openapiJson)\n",
    "\n",
    "wantedPaths = defaultdict(dict)\n",
    "for path, methods in jsonFile[\"paths\"].items():\n",
    "    for method, endpoint in methods.items():\n",
    "        if \"internal\" not in endpoint[\"tags\"] and \"admin\" not in endpoint[\"tags\"]:\n",
    "             wantedPaths[path][method] = endpoint\n",
    "\n",
    "openapiFile = jsonFile\n",
    "openapiFile[\"paths\"] = wantedPaths"
   ]
  },
  {
   "cell_type": "code",
   "execution_count": 31,
   "metadata": {
    "pycharm": {
     "name": "#%%\n"
    }
   },
   "outputs": [],
   "source": [
    "# save cleaned/refactored version of openapi.json as openapi.v2.json\n",
    "\n",
    "with open('reference/openapi.v2.json', 'w') as jf:\n",
    "    json.dump(openapiFile, jf)"
   ]
  },
  {
   "cell_type": "code",
   "execution_count": null,
   "outputs": [],
   "source": [
    "# reformat openapi-bundle-cleaned.v1.yaml to json and create json variable\n",
    "\n",
    "with open(\"openapi-bundle-cleaned.v1.yaml\") as yf, \\\n",
    "    open(\"openapi-bundle-cleaned.v1.json\", \"w\") as jf, \\\n",
    "    open(\"openapi-bundle-cleaned.v1.json\") as cleanedV1Json:\n",
    "    yamlObject = yaml.safe_load(yf)\n",
    "    json.dump(yamlObject, jf)\n",
    "    v1Json = json.load(cleanedV1Json)\n"
   ],
   "metadata": {
    "collapsed": false,
    "pycharm": {
     "name": "#%%\n",
     "is_executing": true
    }
   }
  },
  {
   "cell_type": "code",
   "execution_count": null,
   "metadata": {
    "pycharm": {
     "name": "#%%\n"
    }
   },
   "outputs": [],
   "source": [
    "# at the end save openapi.v2.json as yaml\n",
    "\n",
    "with open(\"reference/openapi.v2.json\") as jf, \\\n",
    "  open(\"reference/openapi.v2.yaml\", \"w\") as yf:\n",
    "    jsonObj = json.load(jf)\n",
    "    yaml.dump(jsonObj, yf, sort_keys=False)"
   ]
  },
  {
   "cell_type": "code",
   "execution_count": null,
   "metadata": {},
   "outputs": [],
   "source": []
  }
 ],
 "metadata": {
  "kernelspec": {
   "display_name": "Python 3 (ipykernel)",
   "language": "python",
   "name": "python3"
  },
  "language_info": {
   "codemirror_mode": {
    "name": "ipython",
    "version": 3
   },
   "file_extension": ".py",
   "mimetype": "text/x-python",
   "name": "python",
   "nbconvert_exporter": "python",
   "pygments_lexer": "ipython3",
   "version": "3.9.5"
  }
 },
 "nbformat": 4,
 "nbformat_minor": 1
}